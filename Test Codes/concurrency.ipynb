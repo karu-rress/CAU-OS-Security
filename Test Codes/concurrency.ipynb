{
 "cells": [
  {
   "cell_type": "code",
   "execution_count": null,
   "id": "2dac4277",
   "metadata": {},
   "outputs": [],
   "source": [
    "# import threading library\n",
    "import threading\n",
    "\n",
    "# global counter\n",
    "counter = 0\n",
    "\n",
    "# increment function\n",
    "def increment():\n",
    "    global counter\n",
    "    for _ in range(10000000):\n",
    "        counter += 1\n",
    "\n",
    "# This cell has no output"
   ]
  },
  {
   "cell_type": "code",
   "execution_count": 13,
   "id": "initial_id",
   "metadata": {
    "ExecuteTime": {
     "end_time": "2023-11-01T03:49:15.116943Z",
     "start_time": "2023-11-01T03:49:15.052979Z"
    },
    "collapsed": true
   },
   "outputs": [
    {
     "name": "stdout",
     "output_type": "stream",
     "text": [
      "200000000\n"
     ]
    }
   ],
   "source": [
    "counter = 0\n",
    "\n",
    "# Create & start two threads\n",
    "thread1 = threading.Thread(target=increment)\n",
    "thread2 = threading.Thread(target=increment)\n",
    "\n",
    "thread1.start()\n",
    "thread2.start()\n",
    "\n",
    "# Wait for both threads to finish\n",
    "thread1.join()\n",
    "thread2.join()\n",
    "\n",
    "print(counter)\n"
   ]
  },
  {
   "cell_type": "code",
   "execution_count": 14,
   "id": "9669958180531c97",
   "metadata": {
    "ExecuteTime": {
     "end_time": "2023-11-01T03:49:19.355122Z",
     "start_time": "2023-11-01T03:49:18.910340Z"
    },
    "collapsed": false
   },
   "outputs": [
    {
     "name": "stdout",
     "output_type": "stream",
     "text": [
      "2000000\n"
     ]
    }
   ],
   "source": [
    "counter = 0\n",
    "\n",
    "lock = threading.Lock()\n",
    "\n",
    "def increment_with_lock():\n",
    "    global counter\n",
    "    for _ in range(1000000):\n",
    "        with lock:\n",
    "            counter += 1\n",
    "\n",
    "thread1 = threading.Thread(target=increment_with_lock)\n",
    "thread2 = threading.Thread(target=increment_with_lock)\n",
    "\n",
    "thread1.start()\n",
    "thread2.start()\n",
    "\n",
    "thread1.join()\n",
    "thread2.join()\n",
    "\n",
    "print(counter)\n"
   ]
  },
  {
   "cell_type": "code",
   "execution_count": 15,
   "id": "fdbd5dc42a8f460a",
   "metadata": {
    "ExecuteTime": {
     "end_time": "2023-11-01T03:45:36.712126Z",
     "start_time": "2023-11-01T03:45:36.698558Z"
    },
    "collapsed": false
   },
   "outputs": [
    {
     "name": "stdout",
     "output_type": "stream",
     "text": [
      "Worker 1\n",
      "Worker 2\n"
     ]
    }
   ],
   "source": [
    "# Deadlock\n",
    "\n",
    "import threading\n",
    "\n",
    "lock1 = threading.Lock()\n",
    "lock2 = threading.Lock()\n",
    "\n",
    "def worker1():\n",
    "    with lock1:\n",
    "        with lock2:\n",
    "            print('Worker 1')\n",
    "\n",
    "def worker2():\n",
    "    with lock2:\n",
    "        with lock1:\n",
    "            print('Worker 2')\n",
    "\n",
    "thread1 = threading.Thread(target=worker1)\n",
    "thread2 = threading.Thread(target=worker2)\n",
    "\n",
    "thread1.start()\n",
    "thread2.start()\n",
    "\n",
    "thread1.join()\n",
    "thread2.join()\n"
   ]
  },
  {
   "cell_type": "code",
   "execution_count": null,
   "id": "f56700d4",
   "metadata": {},
   "outputs": [
    {
     "name": "stdout",
     "output_type": "stream",
     "text": [
      "Thread 1: Attempting to acquire lock1\n",
      "Thread 1 <lock1>: Acquired lock1\n",
      "Thread 2: Attempting to acquire lock2\n",
      "Thread 2 <lock2>: Acquired lock2\n",
      "Thread 1 <lock1>: Attempting to acquire lock2Thread 2 <lock2>: Attempting to acquire lock1\n",
      "\n"
     ]
    }
   ],
   "source": [
    "# import threading library\n",
    "import threading\n",
    "\n",
    "# Create two locks (mutexes)\n",
    "lock1 = threading.Lock()\n",
    "lock2 = threading.Lock()\n",
    "\n",
    "def thread1():\n",
    "    print('Thread 1: Attempting to acquire lock1')\n",
    "    with lock1:\n",
    "        print('Thread 1 <lock1>: Acquired lock1')\n",
    "        threading.Event().wait(1) # similar to time.sleep(1)\n",
    "        \n",
    "        print('Thread 1 <lock1>: Attempting to acquire lock2')\n",
    "        with lock2:\n",
    "            print('Thread 1 <lock1, lock2>: Acquired lock2')\n",
    "\n",
    "def thread2():\n",
    "    print('Thread 2: Attempting to acquire lock2')\n",
    "    with lock2:\n",
    "        print('Thread 2 <lock2>: Acquired lock2')\n",
    "        threading.Event().wait(1) # similar to time.sleep(1)\n",
    "        \n",
    "        print('Thread 2 <lock2>: Attempting to acquire lock1')\n",
    "        with lock1:\n",
    "            print('Thread 2 <lock2, lock1>: Acquired lock1')\n",
    "\n",
    "if __name__ == '__main__':\n",
    "    # Create two threads\n",
    "    t1 = threading.Thread(target=thread1)\n",
    "    t2 = threading.Thread(target=thread2)\n",
    "\n",
    "    # Start threads\n",
    "    t1.start()\n",
    "    t2.start()\n",
    "\n",
    "    # Wait for both threads to finish\n",
    "    t1.join()\n",
    "    t2.join()\n",
    "\n",
    "    # this line will NEVER be reached\n",
    "    print('Program finished.')"
   ]
  }
 ],
 "metadata": {
  "kernelspec": {
   "display_name": "develop",
   "language": "python",
   "name": "python3"
  },
  "language_info": {
   "codemirror_mode": {
    "name": "ipython",
    "version": 3
   },
   "file_extension": ".py",
   "mimetype": "text/x-python",
   "name": "python",
   "nbconvert_exporter": "python",
   "pygments_lexer": "ipython3",
   "version": "3.12.7"
  }
 },
 "nbformat": 4,
 "nbformat_minor": 5
}
